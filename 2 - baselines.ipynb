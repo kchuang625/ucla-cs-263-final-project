{
 "cells": [
  {
   "cell_type": "code",
   "execution_count": 1,
   "id": "1c85492b",
   "metadata": {
    "scrolled": true
   },
   "outputs": [
    {
     "name": "stderr",
     "output_type": "stream",
     "text": [
      "PyTorch version 1.12.0+cu102 available.\n",
      "2023-06-05 03:16:47.099550: I tensorflow/core/platform/cpu_feature_guard.cc:193] This TensorFlow binary is optimized with oneAPI Deep Neural Network Library (oneDNN) to use the following CPU instructions in performance-critical operations:  AVX2 FMA\n",
      "To enable them in other operations, rebuild TensorFlow with the appropriate compiler flags.\n",
      "2023-06-05 03:16:47.479876: W tensorflow/compiler/xla/stream_executor/platform/default/dso_loader.cc:64] Could not load dynamic library 'libcudart.so.11.0'; dlerror: libcudart.so.11.0: cannot open shared object file: No such file or directory; LD_LIBRARY_PATH: /usr/local/cuda-9.0/lib64:/usr/local/cuda-9.0/lib64:\n",
      "2023-06-05 03:16:47.479917: I tensorflow/compiler/xla/stream_executor/cuda/cudart_stub.cc:29] Ignore above cudart dlerror if you do not have a GPU set up on your machine.\n",
      "2023-06-05 03:16:49.058131: W tensorflow/compiler/xla/stream_executor/platform/default/dso_loader.cc:64] Could not load dynamic library 'libnvinfer.so.7'; dlerror: libnvinfer.so.7: cannot open shared object file: No such file or directory; LD_LIBRARY_PATH: /usr/local/cuda-9.0/lib64:/usr/local/cuda-9.0/lib64:\n",
      "2023-06-05 03:16:49.058229: W tensorflow/compiler/xla/stream_executor/platform/default/dso_loader.cc:64] Could not load dynamic library 'libnvinfer_plugin.so.7'; dlerror: libnvinfer_plugin.so.7: cannot open shared object file: No such file or directory; LD_LIBRARY_PATH: /usr/local/cuda-9.0/lib64:/usr/local/cuda-9.0/lib64:\n",
      "2023-06-05 03:16:49.058239: W tensorflow/compiler/tf2tensorrt/utils/py_utils.cc:38] TF-TRT Warning: Cannot dlopen some TensorRT libraries. If you would like to use Nvidia GPU with TensorRT, please make sure the missing libraries mentioned above are installed properly.\n",
      "TensorFlow version 2.11.0 available.\n"
     ]
    }
   ],
   "source": [
    "import random\n",
    "\n",
    "import matplotlib.pyplot as plt\n",
    "import numpy as np\n",
    "import pandas as pd\n",
    "import torch\n",
    "from datasets import load_metric\n",
    "from sklearn.feature_extraction.text import TfidfVectorizer\n",
    "from sklearn.svm import SVC\n",
    "from transformers import (\n",
    "    AutoModelForSequenceClassification,\n",
    "    AutoTokenizer,\n",
    "    Trainer,\n",
    "    TrainingArguments,\n",
    ")"
   ]
  },
  {
   "cell_type": "code",
   "execution_count": 2,
   "id": "fe4c1a76",
   "metadata": {
    "scrolled": false
   },
   "outputs": [
    {
     "data": {
      "text/html": [
       "<div>\n",
       "<style scoped>\n",
       "    .dataframe tbody tr th:only-of-type {\n",
       "        vertical-align: middle;\n",
       "    }\n",
       "\n",
       "    .dataframe tbody tr th {\n",
       "        vertical-align: top;\n",
       "    }\n",
       "\n",
       "    .dataframe thead th {\n",
       "        text-align: right;\n",
       "    }\n",
       "</style>\n",
       "<table border=\"1\" class=\"dataframe\">\n",
       "  <thead>\n",
       "    <tr style=\"text-align: right;\">\n",
       "      <th></th>\n",
       "      <th>tweet</th>\n",
       "      <th>sarcastic</th>\n",
       "    </tr>\n",
       "  </thead>\n",
       "  <tbody>\n",
       "    <tr>\n",
       "      <th>0</th>\n",
       "      <td>The only thing I got from college is a caffein...</td>\n",
       "      <td>1</td>\n",
       "    </tr>\n",
       "    <tr>\n",
       "      <th>1</th>\n",
       "      <td>I love it when professors draw a big question ...</td>\n",
       "      <td>1</td>\n",
       "    </tr>\n",
       "    <tr>\n",
       "      <th>2</th>\n",
       "      <td>Remember the hundred emails from companies whe...</td>\n",
       "      <td>1</td>\n",
       "    </tr>\n",
       "    <tr>\n",
       "      <th>3</th>\n",
       "      <td>Today my pop-pop told me I was not “forced” to...</td>\n",
       "      <td>1</td>\n",
       "    </tr>\n",
       "    <tr>\n",
       "      <th>4</th>\n",
       "      <td>@VolphanCarol @littlewhitty @mysticalmanatee I...</td>\n",
       "      <td>1</td>\n",
       "    </tr>\n",
       "    <tr>\n",
       "      <th>...</th>\n",
       "      <td>...</td>\n",
       "      <td>...</td>\n",
       "    </tr>\n",
       "    <tr>\n",
       "      <th>3463</th>\n",
       "      <td>The population spike in Chicago in 9 months is...</td>\n",
       "      <td>0</td>\n",
       "    </tr>\n",
       "    <tr>\n",
       "      <th>3464</th>\n",
       "      <td>You'd think in the second to last English clas...</td>\n",
       "      <td>0</td>\n",
       "    </tr>\n",
       "    <tr>\n",
       "      <th>3465</th>\n",
       "      <td>I’m finally surfacing after a holiday to Scotl...</td>\n",
       "      <td>0</td>\n",
       "    </tr>\n",
       "    <tr>\n",
       "      <th>3466</th>\n",
       "      <td>Couldn't be prouder today. Well done to every ...</td>\n",
       "      <td>0</td>\n",
       "    </tr>\n",
       "    <tr>\n",
       "      <th>3467</th>\n",
       "      <td>Overheard as my 13 year old games with a frien...</td>\n",
       "      <td>0</td>\n",
       "    </tr>\n",
       "  </tbody>\n",
       "</table>\n",
       "<p>3468 rows × 2 columns</p>\n",
       "</div>"
      ],
      "text/plain": [
       "                                                  tweet  sarcastic\n",
       "0     The only thing I got from college is a caffein...          1\n",
       "1     I love it when professors draw a big question ...          1\n",
       "2     Remember the hundred emails from companies whe...          1\n",
       "3     Today my pop-pop told me I was not “forced” to...          1\n",
       "4     @VolphanCarol @littlewhitty @mysticalmanatee I...          1\n",
       "...                                                 ...        ...\n",
       "3463  The population spike in Chicago in 9 months is...          0\n",
       "3464  You'd think in the second to last English clas...          0\n",
       "3465  I’m finally surfacing after a holiday to Scotl...          0\n",
       "3466  Couldn't be prouder today. Well done to every ...          0\n",
       "3467  Overheard as my 13 year old games with a frien...          0\n",
       "\n",
       "[3468 rows x 2 columns]"
      ]
     },
     "execution_count": 2,
     "metadata": {},
     "output_type": "execute_result"
    }
   ],
   "source": [
    "train_df = pd.read_csv(\"train/train.En.csv\")[[\"tweet\", \"sarcastic\"]]\n",
    "train_df[\"tweet\"] = train_df[\"tweet\"].fillna(\"\")\n",
    "train_df"
   ]
  },
  {
   "cell_type": "code",
   "execution_count": 3,
   "id": "39158d24",
   "metadata": {},
   "outputs": [
    {
     "data": {
      "text/html": [
       "<div>\n",
       "<style scoped>\n",
       "    .dataframe tbody tr th:only-of-type {\n",
       "        vertical-align: middle;\n",
       "    }\n",
       "\n",
       "    .dataframe tbody tr th {\n",
       "        vertical-align: top;\n",
       "    }\n",
       "\n",
       "    .dataframe thead th {\n",
       "        text-align: right;\n",
       "    }\n",
       "</style>\n",
       "<table border=\"1\" class=\"dataframe\">\n",
       "  <thead>\n",
       "    <tr style=\"text-align: right;\">\n",
       "      <th></th>\n",
       "      <th>text</th>\n",
       "      <th>sarcastic</th>\n",
       "    </tr>\n",
       "  </thead>\n",
       "  <tbody>\n",
       "    <tr>\n",
       "      <th>0</th>\n",
       "      <td>Size on the the Toulouse team, That pack is mo...</td>\n",
       "      <td>0</td>\n",
       "    </tr>\n",
       "    <tr>\n",
       "      <th>1</th>\n",
       "      <td>Pinball!</td>\n",
       "      <td>0</td>\n",
       "    </tr>\n",
       "    <tr>\n",
       "      <th>2</th>\n",
       "      <td>So the Scottish Government want people to get ...</td>\n",
       "      <td>1</td>\n",
       "    </tr>\n",
       "    <tr>\n",
       "      <th>3</th>\n",
       "      <td>villainous pro tip : change the device name on...</td>\n",
       "      <td>0</td>\n",
       "    </tr>\n",
       "    <tr>\n",
       "      <th>4</th>\n",
       "      <td>I would date any of these men 🥺</td>\n",
       "      <td>0</td>\n",
       "    </tr>\n",
       "    <tr>\n",
       "      <th>...</th>\n",
       "      <td>...</td>\n",
       "      <td>...</td>\n",
       "    </tr>\n",
       "    <tr>\n",
       "      <th>1395</th>\n",
       "      <td>I’ve just seen this and felt it deserved a Ret...</td>\n",
       "      <td>0</td>\n",
       "    </tr>\n",
       "    <tr>\n",
       "      <th>1396</th>\n",
       "      <td>Omg how an earth is that a pen !!! 🤡</td>\n",
       "      <td>0</td>\n",
       "    </tr>\n",
       "    <tr>\n",
       "      <th>1397</th>\n",
       "      <td>Bringing Kanye and drake to a tl near you</td>\n",
       "      <td>0</td>\n",
       "    </tr>\n",
       "    <tr>\n",
       "      <th>1398</th>\n",
       "      <td>I love it when women are referred to as \"girl ...</td>\n",
       "      <td>1</td>\n",
       "    </tr>\n",
       "    <tr>\n",
       "      <th>1399</th>\n",
       "      <td>The fact that people still don't get that you ...</td>\n",
       "      <td>1</td>\n",
       "    </tr>\n",
       "  </tbody>\n",
       "</table>\n",
       "<p>1400 rows × 2 columns</p>\n",
       "</div>"
      ],
      "text/plain": [
       "                                                   text  sarcastic\n",
       "0     Size on the the Toulouse team, That pack is mo...          0\n",
       "1                                              Pinball!          0\n",
       "2     So the Scottish Government want people to get ...          1\n",
       "3     villainous pro tip : change the device name on...          0\n",
       "4                       I would date any of these men 🥺          0\n",
       "...                                                 ...        ...\n",
       "1395  I’ve just seen this and felt it deserved a Ret...          0\n",
       "1396               Omg how an earth is that a pen !!! 🤡          0\n",
       "1397          Bringing Kanye and drake to a tl near you          0\n",
       "1398  I love it when women are referred to as \"girl ...          1\n",
       "1399  The fact that people still don't get that you ...          1\n",
       "\n",
       "[1400 rows x 2 columns]"
      ]
     },
     "execution_count": 3,
     "metadata": {},
     "output_type": "execute_result"
    }
   ],
   "source": [
    "test_df = pd.read_csv(\"test/task_A_En_test.csv\")\n",
    "test_df[\"text\"] = test_df[\"text\"].fillna(\"\")\n",
    "test_df"
   ]
  },
  {
   "cell_type": "code",
   "execution_count": 4,
   "id": "43d1ab57",
   "metadata": {},
   "outputs": [],
   "source": [
    "def get_train_test_indices(n, test_size):\n",
    "    n_train = round(n * (1 - test_size))\n",
    "    all_idxs = list(range(n))\n",
    "    random.shuffle(all_idxs)\n",
    "    return all_idxs[:n_train], all_idxs[n_train:]"
   ]
  },
  {
   "cell_type": "code",
   "execution_count": 5,
   "id": "ffa80326",
   "metadata": {
    "scrolled": true
   },
   "outputs": [
    {
     "name": "stderr",
     "output_type": "stream",
     "text": [
      "Checking /home/ray080186/.cache/huggingface/datasets/4c530db6524e184f3ae54c23f61ccff4ed3044ff6415e1e28d05618f6eb71752.f7b1a1b5c5768ef71463744e19ab26eb2bfa9b9d2ca9ece6a94ee05f37520247.py for additional imports.\n",
      "Found main folder for metric https://s3.amazonaws.com/datasets.huggingface.co/datasets/metrics/accuracy/accuracy.py at /home/ray080186/.cache/huggingface/modules/datasets_modules/metrics/accuracy\n",
      "Found specific version folder for metric https://s3.amazonaws.com/datasets.huggingface.co/datasets/metrics/accuracy/accuracy.py at /home/ray080186/.cache/huggingface/modules/datasets_modules/metrics/accuracy/618004201c82ad7cefba547c6116ab7245ee7ccf428d0b23483d20bcc118fb51\n",
      "Found script file from https://s3.amazonaws.com/datasets.huggingface.co/datasets/metrics/accuracy/accuracy.py to /home/ray080186/.cache/huggingface/modules/datasets_modules/metrics/accuracy/618004201c82ad7cefba547c6116ab7245ee7ccf428d0b23483d20bcc118fb51/accuracy.py\n",
      "Couldn't find dataset infos file at https://s3.amazonaws.com/datasets.huggingface.co/datasets/metrics/accuracy/dataset_infos.json\n",
      "Found metadata file for metric https://s3.amazonaws.com/datasets.huggingface.co/datasets/metrics/accuracy/accuracy.py at /home/ray080186/.cache/huggingface/modules/datasets_modules/metrics/accuracy/618004201c82ad7cefba547c6116ab7245ee7ccf428d0b23483d20bcc118fb51/accuracy.json\n",
      "Checking /home/ray080186/.cache/huggingface/datasets/9cf48e7430b438f6a92431a6dc5771d7cb22009fd56adce93f161414e4cd5345.3c9109dd58bcb3f88630a98de3b68825179bc84d0ae17a5f5ebc137fd0e7310e.py for additional imports.\n",
      "Found main folder for metric https://s3.amazonaws.com/datasets.huggingface.co/datasets/metrics/f1/f1.py at /home/ray080186/.cache/huggingface/modules/datasets_modules/metrics/f1\n",
      "Found specific version folder for metric https://s3.amazonaws.com/datasets.huggingface.co/datasets/metrics/f1/f1.py at /home/ray080186/.cache/huggingface/modules/datasets_modules/metrics/f1/9266b41af9f54f6ec149196b308e3c691a7da9e97256b7e926b564bfedfe3599\n",
      "Found script file from https://s3.amazonaws.com/datasets.huggingface.co/datasets/metrics/f1/f1.py to /home/ray080186/.cache/huggingface/modules/datasets_modules/metrics/f1/9266b41af9f54f6ec149196b308e3c691a7da9e97256b7e926b564bfedfe3599/f1.py\n",
      "Couldn't find dataset infos file at https://s3.amazonaws.com/datasets.huggingface.co/datasets/metrics/f1/dataset_infos.json\n",
      "Found metadata file for metric https://s3.amazonaws.com/datasets.huggingface.co/datasets/metrics/f1/f1.py at /home/ray080186/.cache/huggingface/modules/datasets_modules/metrics/f1/9266b41af9f54f6ec149196b308e3c691a7da9e97256b7e926b564bfedfe3599/f1.json\n"
     ]
    }
   ],
   "source": [
    "acc_metric = load_metric(\"accuracy\")\n",
    "f1_metric = load_metric(\"f1\")\n",
    "\n",
    "\n",
    "def compute_metrics(eval_pred):\n",
    "    predictions, labels = eval_pred\n",
    "    y_pred = torch.softmax(torch.FloatTensor(predictions), dim=1)[:, 1] > thd\n",
    "    scores = f1_metric.compute(predictions=y_pred, references=labels)\n",
    "    scores.update(acc_metric.compute(predictions=y_pred, references=labels))\n",
    "    return scores"
   ]
  },
  {
   "cell_type": "code",
   "execution_count": 6,
   "id": "84922a11",
   "metadata": {},
   "outputs": [],
   "source": [
    "def preprocess(text):\n",
    "    new_text = []\n",
    "    for t in text.split(\" \"):\n",
    "        t = \"@user\" if t.startswith(\"@\") and len(t) > 1 else t\n",
    "        t = \"http\" if t.startswith(\"http\") else t\n",
    "        new_text.append(t)\n",
    "    return \" \".join(new_text)"
   ]
  },
  {
   "cell_type": "markdown",
   "id": "9f23c307",
   "metadata": {},
   "source": [
    "### Simple baselines\n",
    "***"
   ]
  },
  {
   "cell_type": "markdown",
   "id": "fceeb3a1",
   "metadata": {},
   "source": [
    "#### One predictor"
   ]
  },
  {
   "cell_type": "code",
   "execution_count": 7,
   "id": "3b0ace58",
   "metadata": {},
   "outputs": [
    {
     "name": "stderr",
     "output_type": "stream",
     "text": [
      "Done writing 1400 examples in 11200 bytes /home/ray080186/.cache/huggingface/metrics/f1/default/default_experiment-1-0.arrow.\n",
      "Set __getitem__(key) output type to python objects for no columns  (when key is int or slice) and don't output other (un-formatted) columns.\n"
     ]
    },
    {
     "data": {
      "text/plain": [
       "{'f1': 0.25}"
      ]
     },
     "execution_count": 7,
     "metadata": {},
     "output_type": "execute_result"
    }
   ],
   "source": [
    "y_test = test_df[\"sarcastic\"].values\n",
    "y_pred_ones = np.ones(len(y_test))\n",
    "f1_metric.compute(predictions=y_pred_ones, references=y_test)"
   ]
  },
  {
   "cell_type": "markdown",
   "id": "f56cb063",
   "metadata": {},
   "source": [
    "#### TF-IDF + Random Forest Classifier"
   ]
  },
  {
   "cell_type": "code",
   "execution_count": 8,
   "id": "012a69f4",
   "metadata": {},
   "outputs": [
    {
     "data": {
      "text/plain": [
       "((3468, 4458), (1400, 4458))"
      ]
     },
     "execution_count": 8,
     "metadata": {},
     "output_type": "execute_result"
    }
   ],
   "source": [
    "tfidf = TfidfVectorizer(min_df=2, stop_words=\"english\")\n",
    "X_train = train_df[\"tweet\"].apply(preprocess).tolist()\n",
    "X_test = test_df[\"text\"].apply(preprocess).tolist()\n",
    "tfidf.fit(X_train + X_test)\n",
    "X_train = tfidf.transform(X_train)\n",
    "X_test = tfidf.transform(X_test)\n",
    "y_train = train_df[\"sarcastic\"].values\n",
    "X_train.shape, X_test.shape"
   ]
  },
  {
   "cell_type": "code",
   "execution_count": 9,
   "id": "c43f1a8f",
   "metadata": {
    "scrolled": false
   },
   "outputs": [
    {
     "data": {
      "image/png": "[encoded data removed]",
      "text/plain": [
       "<Figure size 640x480 with 1 Axes>"
      ]
     },
     "metadata": {},
     "output_type": "display_data"
    },
    {
     "data": {
      "image/png": "[encoded data removed]",
      "text/plain": [
       "<Figure size 640x480 with 1 Axes>"
      ]
     },
     "metadata": {},
     "output_type": "display_data"
    },
    {
     "name": "stderr",
     "output_type": "stream",
     "text": [
      "Done writing 3468 examples in 27744 bytes /home/ray080186/.cache/huggingface/metrics/f1/default/default_experiment-1-0.arrow.\n",
      "Set __getitem__(key) output type to python objects for no columns  (when key is int or slice) and don't output other (un-formatted) columns.\n",
      "Done writing 1400 examples in 11200 bytes /home/ray080186/.cache/huggingface/metrics/f1/default/default_experiment-1-0.arrow.\n",
      "Set __getitem__(key) output type to python objects for no columns  (when key is int or slice) and don't output other (un-formatted) columns.\n"
     ]
    },
    {
     "name": "stdout",
     "output_type": "stream",
     "text": [
      "Train f1: 0.99\n",
      "Test f1: 0.302\n"
     ]
    }
   ],
   "source": [
    "thd = 0.25\n",
    "clf = SVC(probability=True, random_state=0)\n",
    "clf.fit(X_train, y_train)\n",
    "\n",
    "y_pred_train = clf.predict_proba(X_train)[:,1]\n",
    "plt.hist(y_pred_train)\n",
    "plt.title(\"y_pred distribtion (train)\")\n",
    "plt.show()\n",
    "y_pred_test = clf.predict_proba(X_test)[:,1]\n",
    "plt.title(\"y_pred distribtion (test)\")\n",
    "plt.hist(y_pred_test)\n",
    "plt.show()\n",
    "\n",
    "y_pred_train = y_pred_train > thd\n",
    "y_pred_test = y_pred_test > thd\n",
    "train_f1 = f1_metric.compute(predictions=y_pred_train, references=y_train)[\"f1\"]\n",
    "test_f1 = f1_metric.compute(predictions=y_pred_test, references=y_test)[\"f1\"]\n",
    "print(\"Train f1:\", round(train_f1, 3))\n",
    "print(\"Test f1:\", round(test_f1, 3))"
   ]
  },
  {
   "cell_type": "markdown",
   "id": "ee431695",
   "metadata": {},
   "source": [
    "### Strong baseline\n",
    "***"
   ]
  },
  {
   "cell_type": "code",
   "execution_count": 10,
   "id": "ac3d1d70",
   "metadata": {},
   "outputs": [],
   "source": [
    "all_idxs = np.arange(len(train_df))\n",
    "train_idxs, valid_idxs = get_train_test_indices(len(all_idxs), test_size=0.2)\n",
    "train_idxs, valid_idxs = all_idxs[train_idxs], all_idxs[valid_idxs]\n",
    "X_train = train_df[\"tweet\"].apply(preprocess).values[train_idxs]\n",
    "X_valid = train_df[\"tweet\"].apply(preprocess).values[valid_idxs]\n",
    "X_test = test_df[\"text\"].apply(preprocess).values\n",
    "y_train = train_df[\"sarcastic\"].values[train_idxs]\n",
    "y_valid = train_df[\"sarcastic\"].values[valid_idxs]\n",
    "y_test = test_df[\"sarcastic\"].values"
   ]
  },
  {
   "cell_type": "markdown",
   "id": "b98565c5",
   "metadata": {},
   "source": [
    "#### Fine-tuned BERT"
   ]
  },
  {
   "cell_type": "code",
   "execution_count": 11,
   "id": "4c7c4f4a",
   "metadata": {},
   "outputs": [],
   "source": [
    "model_id = \"bert-base-cased\"\n",
    "tokenizer = AutoTokenizer.from_pretrained(model_id)\n",
    "train_encodings = tokenizer(list(X_train), truncation=True, padding=True, max_length=512)\n",
    "valid_encodings = tokenizer(list(X_valid), truncation=True, padding=True, max_length=512)\n",
    "test_encodings = tokenizer(list(X_test), truncation=True, padding=True, max_length=512)"
   ]
  },
  {
   "cell_type": "code",
   "execution_count": 12,
   "id": "485d7ae0",
   "metadata": {},
   "outputs": [],
   "source": [
    "class TweetDataset(torch.utils.data.Dataset):\n",
    "    def __init__(self, encodings, labels):\n",
    "        self.encodings = encodings\n",
    "        self.labels = labels\n",
    "\n",
    "    def __getitem__(self, idx):\n",
    "        item = {key: torch.tensor(val[idx]) for key, val in self.encodings.items()}\n",
    "        item[\"labels\"] = torch.tensor(self.labels[idx])\n",
    "        return item\n",
    "\n",
    "    def __len__(self):\n",
    "        return len(self.labels)\n",
    "\n",
    "\n",
    "train_dataset = TweetDataset(train_encodings, y_train)\n",
    "valid_dataset = TweetDataset(valid_encodings, y_valid)\n",
    "test_dataset = TweetDataset(test_encodings, y_test)"
   ]
  },
  {
   "cell_type": "code",
   "execution_count": 19,
   "id": "732aaa78",
   "metadata": {
    "scrolled": true
   },
   "outputs": [
    {
     "name": "stderr",
     "output_type": "stream",
     "text": [
      "PyTorch: setting up devices\n",
      "The default value for the training argument `--report_to` will change in v5 (from all installed integrations to none). In v5, you will need to use `--report_to all` to get the same behavior as now. You should start updating your code and make this info disappear :-).\n",
      "loading configuration file https://huggingface.co/bert-base-cased/resolve/main/config.json from cache at /home/ray080186/.cache/huggingface/transformers/a803e0468a8fe090683bdc453f4fac622804f49de86d7cecaee92365d4a0f829.a64a22196690e0e82ead56f388a3ef3a50de93335926ccfa20610217db589307\n",
      "Model config BertConfig {\n",
      "  \"_name_or_path\": \"bert-base-cased\",\n",
      "  \"architectures\": [\n",
      "    \"BertForMaskedLM\"\n",
      "  ],\n",
      "  \"attention_probs_dropout_prob\": 0.1,\n",
      "  \"classifier_dropout\": null,\n",
      "  \"gradient_checkpointing\": false,\n",
      "  \"hidden_act\": \"gelu\",\n",
      "  \"hidden_dropout_prob\": 0.1,\n",
      "  \"hidden_size\": 768,\n",
      "  \"initializer_range\": 0.02,\n",
      "  \"intermediate_size\": 3072,\n",
      "  \"layer_norm_eps\": 1e-12,\n",
      "  \"max_position_embeddings\": 512,\n",
      "  \"model_type\": \"bert\",\n",
      "  \"num_attention_heads\": 12,\n",
      "  \"num_hidden_layers\": 12,\n",
      "  \"pad_token_id\": 0,\n",
      "  \"position_embedding_type\": \"absolute\",\n",
      "  \"transformers_version\": \"4.19.2\",\n",
      "  \"type_vocab_size\": 2,\n",
      "  \"use_cache\": true,\n",
      "  \"vocab_size\": 28996\n",
      "}\n",
      "\n",
      "loading weights file https://huggingface.co/bert-base-cased/resolve/main/pytorch_model.bin from cache at /home/ray080186/.cache/huggingface/transformers/092cc582560fc3833e556b3f833695c26343cb54b7e88cd02d40821462a74999.1f48cab6c959fc6c360d22bea39d06959e90f5b002e77e836d2da45464875cda\n",
      "Some weights of the model checkpoint at bert-base-cased were not used when initializing BertForSequenceClassification: ['cls.predictions.bias', 'cls.predictions.decoder.weight', 'cls.seq_relationship.bias', 'cls.seq_relationship.weight', 'cls.predictions.transform.LayerNorm.bias', 'cls.predictions.transform.LayerNorm.weight', 'cls.predictions.transform.dense.bias', 'cls.predictions.transform.dense.weight']\n",
      "- This IS expected if you are initializing BertForSequenceClassification from the checkpoint of a model trained on another task or with another architecture (e.g. initializing a BertForSequenceClassification model from a BertForPreTraining model).\n",
      "- This IS NOT expected if you are initializing BertForSequenceClassification from the checkpoint of a model that you expect to be exactly identical (initializing a BertForSequenceClassification model from a BertForSequenceClassification model).\n",
      "Some weights of BertForSequenceClassification were not initialized from the model checkpoint at bert-base-cased and are newly initialized: ['classifier.weight', 'classifier.bias']\n",
      "You should probably TRAIN this model on a down-stream task to be able to use it for predictions and inference.\n",
      "***** Running training *****\n",
      "  Num examples = 2774\n",
      "  Num Epochs = 3\n",
      "  Instantaneous batch size per device = 16\n",
      "  Total train batch size (w. parallel, distributed & accumulation) = 64\n",
      "  Gradient Accumulation steps = 1\n",
      "  Total optimization steps = 132\n"
     ]
    },
    {
     "data": {
      "text/html": [
       "\n",
       "    <div>\n",
       "      \n",
       "      <progress value='132' max='132' style='width:300px; height:20px; vertical-align: middle;'></progress>\n",
       "      [132/132 01:45, Epoch 3/3]\n",
       "    </div>\n",
       "    <table border=\"1\" class=\"dataframe\">\n",
       "  <thead>\n",
       " <tr style=\"text-align: left;\">\n",
       "      <th>Epoch</th>\n",
       "      <th>Training Loss</th>\n",
       "      <th>Validation Loss</th>\n",
       "      <th>F1</th>\n",
       "      <th>Accuracy</th>\n",
       "    </tr>\n",
       "  </thead>\n",
       "  <tbody>\n",
       "    <tr>\n",
       "      <td>1</td>\n",
       "      <td>0.555800</td>\n",
       "      <td>0.606701</td>\n",
       "      <td>0.147368</td>\n",
       "      <td>0.766571</td>\n",
       "    </tr>\n",
       "    <tr>\n",
       "      <td>2</td>\n",
       "      <td>0.507400</td>\n",
       "      <td>0.592492</td>\n",
       "      <td>0.341818</td>\n",
       "      <td>0.739193</td>\n",
       "    </tr>\n",
       "    <tr>\n",
       "      <td>3</td>\n",
       "      <td>0.220200</td>\n",
       "      <td>0.742100</td>\n",
       "      <td>0.412979</td>\n",
       "      <td>0.713256</td>\n",
       "    </tr>\n",
       "  </tbody>\n",
       "</table><p>"
      ],
      "text/plain": [
       "<IPython.core.display.HTML object>"
      ]
     },
     "metadata": {},
     "output_type": "display_data"
    },
    {
     "name": "stderr",
     "output_type": "stream",
     "text": [
      "***** Running Evaluation *****\n",
      "  Num examples = 694\n",
      "  Batch size = 256\n",
      "Done writing 694 examples in 5552 bytes /home/ray080186/.cache/huggingface/metrics/f1/default/default_experiment-1-0.arrow.\n",
      "Set __getitem__(key) output type to python objects for no columns  (when key is int or slice) and don't output other (un-formatted) columns.\n",
      "Done writing 694 examples in 5552 bytes /home/ray080186/.cache/huggingface/metrics/accuracy/default/default_experiment-1-0.arrow.\n",
      "Set __getitem__(key) output type to python objects for no columns  (when key is int or slice) and don't output other (un-formatted) columns.\n",
      "Saving model checkpoint to /tmp2/kch/cs263/final_project/models/checkpoint-44\n",
      "Configuration saved in /tmp2/kch/cs263/final_project/models/checkpoint-44/config.json\n",
      "Model weights saved in /tmp2/kch/cs263/final_project/models/checkpoint-44/pytorch_model.bin\n",
      "***** Running Evaluation *****\n",
      "  Num examples = 694\n",
      "  Batch size = 256\n",
      "Done writing 694 examples in 5552 bytes /home/ray080186/.cache/huggingface/metrics/f1/default/default_experiment-1-0.arrow.\n",
      "Set __getitem__(key) output type to python objects for no columns  (when key is int or slice) and don't output other (un-formatted) columns.\n",
      "Done writing 694 examples in 5552 bytes /home/ray080186/.cache/huggingface/metrics/accuracy/default/default_experiment-1-0.arrow.\n",
      "Set __getitem__(key) output type to python objects for no columns  (when key is int or slice) and don't output other (un-formatted) columns.\n",
      "Saving model checkpoint to /tmp2/kch/cs263/final_project/models/checkpoint-88\n",
      "Configuration saved in /tmp2/kch/cs263/final_project/models/checkpoint-88/config.json\n",
      "Model weights saved in /tmp2/kch/cs263/final_project/models/checkpoint-88/pytorch_model.bin\n",
      "***** Running Evaluation *****\n",
      "  Num examples = 694\n",
      "  Batch size = 256\n",
      "Done writing 694 examples in 5552 bytes /home/ray080186/.cache/huggingface/metrics/f1/default/default_experiment-1-0.arrow.\n",
      "Set __getitem__(key) output type to python objects for no columns  (when key is int or slice) and don't output other (un-formatted) columns.\n",
      "Done writing 694 examples in 5552 bytes /home/ray080186/.cache/huggingface/metrics/accuracy/default/default_experiment-1-0.arrow.\n",
      "Set __getitem__(key) output type to python objects for no columns  (when key is int or slice) and don't output other (un-formatted) columns.\n",
      "Saving model checkpoint to /tmp2/kch/cs263/final_project/models/checkpoint-132\n",
      "Configuration saved in /tmp2/kch/cs263/final_project/models/checkpoint-132/config.json\n",
      "Model weights saved in /tmp2/kch/cs263/final_project/models/checkpoint-132/pytorch_model.bin\n",
      "\n",
      "\n",
      "Training completed. Do not forget to share your model on huggingface.co/models =)\n",
      "\n",
      "\n",
      "Loading best model from /tmp2/kch/cs263/final_project/models/checkpoint-132 (score: 0.41297935103244837).\n"
     ]
    },
    {
     "data": {
      "text/plain": [
       "TrainOutput(global_step=132, training_loss=0.433668132984277, metrics={'train_runtime': 106.4665, 'train_samples_per_second': 78.165, 'train_steps_per_second': 1.24, 'total_flos': 466147484560440.0, 'train_loss': 0.433668132984277, 'epoch': 3.0})"
      ]
     },
     "execution_count": 19,
     "metadata": {},
     "output_type": "execute_result"
    }
   ],
   "source": [
    "batch_size = 16\n",
    "n_epoch = 3\n",
    "total_steps = round(len(y_train) / batch_size / 4 * n_epoch)\n",
    "warmup_steps = total_steps * 0.1\n",
    "\n",
    "training_args = TrainingArguments(\n",
    "    output_dir=\"/tmp2/kch/cs263/final_project/models\",\n",
    "    learning_rate=1e-4,\n",
    "    num_train_epochs=n_epoch,                # total number of training epochs\n",
    "    per_device_train_batch_size=batch_size,  # batch size per device during training\n",
    "    per_device_eval_batch_size=64,           # batch size for evaluation\n",
    "    warmup_steps=warmup_steps,               # number of warmup steps for learning rate scheduler\n",
    "    weight_decay=0.01,                       # strength of weight decay\n",
    "    logging_dir=\"./logs\",                    # directory for storing logs\n",
    "    logging_steps=20,\n",
    "    evaluation_strategy=\"epoch\",\n",
    "    save_strategy=\"epoch\",\n",
    "    metric_for_best_model=\"f1\",\n",
    "    load_best_model_at_end=True,\n",
    ")\n",
    "\n",
    "model = AutoModelForSequenceClassification.from_pretrained(\n",
    "    model_id,\n",
    "    num_labels=2,\n",
    "    ignore_mismatched_sizes=True,\n",
    ")\n",
    "\n",
    "trainer = Trainer(\n",
    "    model=model,                         # the instantiated 🤗 Transformers model to be trained\n",
    "    args=training_args,                  # training arguments, defined above\n",
    "    train_dataset=train_dataset,         # training dataset\n",
    "    eval_dataset=valid_dataset,          # evaluation dataset\n",
    "    compute_metrics=compute_metrics,\n",
    ")\n",
    "\n",
    "trainer.train()"
   ]
  },
  {
   "cell_type": "code",
   "execution_count": 22,
   "id": "b09628e6",
   "metadata": {},
   "outputs": [
    {
     "name": "stderr",
     "output_type": "stream",
     "text": [
      "***** Running Prediction *****\n",
      "  Num examples = 1400\n",
      "  Batch size = 256\n",
      "Done writing 1400 examples in 11200 bytes /home/ray080186/.cache/huggingface/metrics/f1/default/default_experiment-1-0.arrow.\n",
      "Set __getitem__(key) output type to python objects for no columns  (when key is int or slice) and don't output other (un-formatted) columns.\n",
      "Done writing 1400 examples in 11200 bytes /home/ray080186/.cache/huggingface/metrics/accuracy/default/default_experiment-1-0.arrow.\n",
      "Set __getitem__(key) output type to python objects for no columns  (when key is int or slice) and don't output other (un-formatted) columns.\n",
      "Done writing 1400 examples in 11200 bytes /home/ray080186/.cache/huggingface/metrics/f1/default/default_experiment-1-0.arrow.\n",
      "Set __getitem__(key) output type to python objects for no columns  (when key is int or slice) and don't output other (un-formatted) columns.\n"
     ]
    },
    {
     "data": {
      "text/plain": [
       "{'f1': 0.33087149187592324}"
      ]
     },
     "execution_count": 22,
     "metadata": {},
     "output_type": "execute_result"
    }
   ],
   "source": [
    "y_pred = trainer.predict(test_dataset)[0]\n",
    "y_pred = torch.softmax(torch.FloatTensor(y_pred), dim=1)[:, 1] > thd\n",
    "f1_metric.compute(predictions=y_pred_, references=y_test)"
   ]
  },
  {
   "cell_type": "code",
   "execution_count": 16,
   "id": "c987db10",
   "metadata": {},
   "outputs": [
    {
     "name": "stderr",
     "output_type": "stream",
     "text": [
      "***** Running Prediction *****\n",
      "  Num examples = 694\n",
      "  Batch size = 256\n",
      "Done writing 694 examples in 5552 bytes /home/ray080186/.cache/huggingface/metrics/f1/default/default_experiment-1-0.arrow.\n",
      "Set __getitem__(key) output type to python objects for no columns  (when key is int or slice) and don't output other (un-formatted) columns.\n",
      "Done writing 694 examples in 5552 bytes /home/ray080186/.cache/huggingface/metrics/accuracy/default/default_experiment-1-0.arrow.\n",
      "Set __getitem__(key) output type to python objects for no columns  (when key is int or slice) and don't output other (un-formatted) columns.\n"
     ]
    }
   ],
   "source": [
    "# for error analysis\n",
    "y_pred = trainer.predict(valid_dataset)[0]\n",
    "y_pred = torch.softmax(torch.FloatTensor(y_pred), dim=1)[:, 1] > thd\n",
    "\n",
    "valid_df = train_df.iloc[valid_idxs].copy()\n",
    "valid_df[\"pred\"] = y_pred.int().tolist()\n",
    "valid_df[[\"tweet\", \"sarcastic\", \"pred\"]].to_csv(\n",
    "    \"predictions/valid_pred_df.csv\", index=False\n",
    ")"
   ]
  },
  {
   "cell_type": "markdown",
   "id": "f5bed70e",
   "metadata": {},
   "source": [
    "### Super strong baseline\n",
    "#### ChatGPT"
   ]
  },
  {
   "cell_type": "code",
   "execution_count": 17,
   "id": "3b385ea3",
   "metadata": {},
   "outputs": [
    {
     "name": "stdout",
     "output_type": "stream",
     "text": [
      "\n",
      "Predict if the following 100 tweets are sarcastic.\n",
      "Return 0 or 1 for each tweet.\n",
      "1. The usual UK race baiters, strangely have got absolutely nothing to say about the Jussie Smollett case.\n",
      "2. “You’re English right?”\n",
      "“Yeah, big time”\n",
      "3. Well the tax payer was the loser\n",
      "4. They been ON US since the layover lol\n",
      "5. You must have a certain level of bothered… to attend the gym with a full face of make up???\n",
      "6. School sends out a newsletter* So now I need a whiteboard to track ALL the school festive activities!! Mufti day - don’t forget to make a payment for this, carol concert, early school closure etc Does it ever stop! \n",
      "7. So school have sent out a really helpful newsletter with all key dates and activities. So many fun things arranged for the children.\n",
      "8. my darling my dear my darling\n",
      "9. game 1 of playoffs last season… take away the JT injury &amp; the loss\n",
      "10. Chloe's body is amazing though. She just be doing weird stuff sometimes.\n",
      "11. My boss is so immature. It frustrates me that she is always nit picking my work.\n",
      "12. All my socks are in the wash and my feet are cold\n",
      "13. When you are putting ‘parties’ in inverted commas you’re merely trying to sensationalise. That’s not journalism.\n",
      "14. Yaaay!! See you soon CG! 🕺🎄🎄🤶🎅🎄🎄🎉🎉🎉\n",
      "15. Woken up to no power so getting ready in the pitch black with no hot water 😭\n",
      "16. Tbf it might be a chance to look at next seasons squad 👀\n",
      "17. Come on Ralf... get it changed\n",
      "18. 3 points for the whites and a curry for tea... Happy Days 😍\n",
      "19. nothing like being down £20 a week - choosing between food and bills this christmas, thanks DWP! <3\n",
      "20. If Liverpool play heavy metal football, on this performance United are playing John Lewis Xmas cover version football.\n",
      "21. I think something very special is happening under Tim Harris. Promotion becoming a real possibility.\n",
      "22. Went to McDonalds today, unfortunately there was a long wait, which meant that my food was cold and not like the photo in the restaurant\n",
      "23. Game of the Year goes to Yakuza Like A Dragon, special mention to Yakuza Zero.\n",
      "24. Another gorgeous day in sunny Accrington!\n",
      "25. Get vaccinated, it's better for everyone.\n",
      "26. I think he's lost the plot 🤔\n",
      "27. Dropping like flys be lucky to field a team next game\n",
      "28. Really happy that the weather has stayed like this for the whole weekend\n",
      "29. So pleased to have another December day in the office with the AC blowing. How many coats will I need today? 🥶⛄️\n",
      "30. It’s actually really easy to get into the mindset of a Tory. All I do is smash my head into a wall until I bleed and then slur incoherently about social mobility and England before stuffing handfuls of loose change into Tim Martin’s hands and kick a homeless person in the jaw.\n",
      "31. The chillies are wayyyyy too prominent and raw\n",
      "32. I see all the reasons Mark has put forward and they are well explained but you need to ask yourself what is he looking at getting out of this ??\n",
      "33. Well, at least the covid situation seems to be improving in time for christmas... \n",
      "34. The new intel UHD gpu is so powerful! Think of all the atari and nes games we could run at 4k 30FPS! Wow!\n",
      "35. not me drunkenly trying to book a hotel in London for tonight and booking for next Sunday 🥴\n",
      "36. Best wishes for a very speedy recovery .\n",
      "37. That's all that needs to be said....\n",
      "38. Sleep tight little man!! 😔 Two great sets of supporters giving you the tributes you deserve !!! 💙🙏\n",
      "39. Maya from selling sunset has lost her baby at 38 weeks 😢💔 can’t even begin to imagine how awful that must be\n",
      "40. Government- “all over 40’s must have booster jab by end of January!” NHS website *rubs hands together in glee* “oh yes? I think not…!” 🙄\n",
      "41. OMG that was the longest day ever, organising all my referencing and annotations, do not recommend (-,-)...zzzZZZ\n",
      "42. Brrrr it's cold outside...\n",
      "\n",
      "I love it!\n",
      "43. The man has been having seizures for a while and they’ve been occurring with more frequency and severity. Like seizures sometimes do. To speculate on his death and link it conspiracy theories is just disrespectful\n",
      "44. Nice to see the sheep getting their boosters to fully protect themselves\n",
      "45. Another day, another end to another working week, let's see how the next one goes.\n",
      "46. genuinely wanna know what deformed gene in my body decided taking A level history was a good idea\n",
      "47. So the Scottish Government want people to get their booster shots so badly that the website doesn't even work\n",
      "48. The way people wear their trousers does not matter to most people so perhaps it would be a better use of your time to focus on yourself\n",
      "49. BBC reporting on daily covid cases now how convenient🤣\n",
      "50. The PM as usual is stretching the bounds of honesty, far beyond being merely economical with the truth. \n",
      "51. Everton are doing awfully at the minute, not happy.\n",
      "52. 1 man commits suicide roughly every 40 seconds globally. Let that sink in\n",
      "53. Just been refused some headache tables because apparently I look younger than 16. Sixteen. Six. Teen.\n",
      "54. Really impressed with the clear and unified messages coming from the government re Omicron and socialising over xmas!!\n",
      "55. Is it me or what but when you go shopping this time of year people are rude, have no manners and just barge you out of the way without saying sorry 😡.\n",
      "56. Let’s call her and start saying something stupid maybe🤔\n",
      "57. I went to the best restaurant today for dinner. It was absolutely amazing. My steak was cold and the fries were rock solid. I expected my food to be mouth watering and it sure was when I had to wash each bite down with my drink.   \n",
      "58. why are my tears burning my eyes and skin 😭\n",
      "59. is unfair that boris johnson held a party while families went without seeing their dying relatives.\n",
      "60. Woke up from a weird stress dream about our office in poland which strangely had a Korean bbq in the canteen and one of the broth options was oat milk 🤢\n",
      "61. A pretty seminal account by Bercow!\n",
      "62. 🎵 Good morning. Song for the day \"Communication\" by Spandau Ballet 🎶🥳🍷🎄📞\n",
      "63. Which of the D20 Authors’ books is hidden here? Have a guess for a chance to win it!\n",
      "64. Bare people sounding like the Aunties and Uncles WhatsApp chain messages with this vaccine talk. Crazy.\n",
      "65. just caught myself in the mirror looking ridiculously thick I had to double take\n",
      "66. Hate to say it but I think it’s probably Phil Taylor actually\n",
      "67. Supporting Cardiff isn't good for your health.\n",
      "68. Boris Johnson is not a clown. The conservative party is not corrupt.\n",
      "69. i want my £500 back too\n",
      "70. And this why we love Drake…his ability to remain humble through it all\n",
      "71. No matter how good or bad your life is, wake up in the morning and remember you still have one.\n",
      "72. Slightly worried that the police think that potential crimes need not be investigated after a certain length of time.\n",
      "73. I saw Boris Johnson on the news wearing a police hat this morning. I wish he would simply focus of being more competent rather than trying to attract attention to himself all the time.\n",
      "74. Keeping Boris Johnson as prime minister might be good for the Labour Party, but it’s not good for the country\n",
      "75. And why is he using his 2-Bob burner phone to zoom with?\n",
      "76. love when my boss micromanaged me (:\n",
      "77. The support shown by our British newspapers towards GP surgeries is ridiculous, how to ensure the public know how hard we are really working.\n",
      "78. Labour controlled Wales actively closing businesses down, says it all really\n",
      "79. AHSHEHDGS ON MY WAY TO YHE ARENA I’M LITERALLY GONNA THROW UP MY STOMACH FEELS SO WEIRD\n",
      "80. The government has run out of lateral flow tests at a time when they are desperately needed, again.\n",
      "81. Who complained about Terry Burton saying he is not fit to travel  on the  official coaches\n",
      "82. Ugh bad parking really gives me the sh*ts. I’ve just left a note on a neighbour’s car. In my sleep deprived state, I managed to remain civil.\n",
      "83. Can you watch the top prank undercard in the UK?\n",
      "84. You are looking wonderful for your age.\n",
      "85. This looks dramatic.   Q3 is interesting.  If anyone  doing  race reviews in the week.  Please add  Q3  start\n",
      "86. i go to my mums at every opportunity what was the absolute point in me moving out\n",
      "87. Merzbow limited edition 5th Generation fighter jet\n",
      "88. What about the mentally ill 👇👇👇👇👇👇👇👇\n",
      "89. FYI this was not my pint. I hate beer\n",
      "90. A few hours left to apply. Deadline is 5pm TODAY\n",
      "91. As Microsoft develops Windows, they sometimes turn their blue screen of death black for development testing\n",
      "92. 2-6 after what looked a clear foul\n",
      "93. Boris Johnson held a Christmas Party despite lockdown rules banning such gatherings. Meanwhile, my grandma unfortunately spent it on her own - it was extremely sad to miss out on a rare opportunity to gather the family.\n",
      "94. The 5,000 cases figure in Scotland is partly down to backlog. But of course Sturgeon doesn’t mention this…\n",
      "95. So many great activities coming up!\n",
      "96. Saw huge convoy of Mercs and Bonzen outside EEAS yesterday afternoon as AL called on Borrell\n",
      "97. It's so cold here in Britain :c who else loves apple pies?!!\n",
      "98. One thing you can't deny is that this rovers team don't give up...  What a game to miss 😩\n",
      "99. I can't believe the mixed messages coming from the government re Omicron and socialising over Christmas- no one seems to know what's going on!\n",
      "100. The sound on Tiktok about men being better than women is hilarious. Ask not what you can do for the patriarchy but what the patriarchy can do for you.\n",
      "\n"
     ]
    }
   ],
   "source": [
    "n_sample = 100\n",
    "random.seed(0)\n",
    "sample_idxs = random.sample(range(len(y_test)), n_sample)\n",
    "X_test_sample = X_test[sample_idxs]\n",
    "y_test_sample = y_test[sample_idxs]\n",
    "\n",
    "X_test_sample_str = [f\"{i+1}. {s}\" for i, s in enumerate(X_test_sample)]\n",
    "X_test_sample_str = \"\\n\".join(X_test_sample_str)\n",
    "\n",
    "prompt = f\"\"\"\n",
    "Predict if the following 100 tweets are sarcastic.\n",
    "Return 0 or 1 for each tweet.\n",
    "{X_test_sample_str}\n",
    "\"\"\"\n",
    "print(prompt)"
   ]
  },
  {
   "cell_type": "code",
   "execution_count": 18,
   "id": "4c0a935e",
   "metadata": {
    "scrolled": false
   },
   "outputs": [
    {
     "name": "stderr",
     "output_type": "stream",
     "text": [
      "Done writing 100 examples in 800 bytes /home/ray080186/.cache/huggingface/metrics/f1/default/default_experiment-1-0.arrow.\n",
      "Set __getitem__(key) output type to python objects for no columns  (when key is int or slice) and don't output other (un-formatted) columns.\n"
     ]
    },
    {
     "data": {
      "text/plain": [
       "{'f1': 0.3684210526315789}"
      ]
     },
     "execution_count": 18,
     "metadata": {},
     "output_type": "execute_result"
    }
   ],
   "source": [
    "chatgpt_output = \"\"\"\n",
    "1\n",
    "0\n",
    "0\n",
    "0\n",
    "1\n",
    "1\n",
    "0\n",
    "0\n",
    "0\n",
    "0\n",
    "0\n",
    "0\n",
    "0\n",
    "0\n",
    "0\n",
    "0\n",
    "0\n",
    "0\n",
    "1\n",
    "1\n",
    "0\n",
    "0\n",
    "0\n",
    "0\n",
    "0\n",
    "1\n",
    "0\n",
    "0\n",
    "0\n",
    "1\n",
    "0\n",
    "1\n",
    "1\n",
    "0\n",
    "0\n",
    "0\n",
    "0\n",
    "0\n",
    "0\n",
    "1\n",
    "0\n",
    "0\n",
    "0\n",
    "0\n",
    "0\n",
    "1\n",
    "1\n",
    "0\n",
    "1\n",
    "1\n",
    "0\n",
    "0\n",
    "0\n",
    "0\n",
    "0\n",
    "1\n",
    "0\n",
    "0\n",
    "0\n",
    "1\n",
    "0\n",
    "0\n",
    "0\n",
    "0\n",
    "0\n",
    "0\n",
    "0\n",
    "0\n",
    "0\n",
    "0\n",
    "0\n",
    "0\n",
    "0\n",
    "1\n",
    "0\n",
    "1\n",
    "0\n",
    "1\n",
    "1\n",
    "0\n",
    "0\n",
    "0\n",
    "0\n",
    "0\n",
    "0\n",
    "0\n",
    "0\n",
    "0\n",
    "0\n",
    "0\n",
    "0\n",
    "0\n",
    "1\n",
    "1\n",
    "0\n",
    "0\n",
    "0\n",
    "0\n",
    "0\n",
    "1\n",
    "\"\"\"\n",
    "y_pred_chatgpt = [int(s[0]) for s in chatgpt_output.split(\"\\n\")[1:-1]]\n",
    "f1_metric.compute(predictions=y_pred_chatgpt, references=y_test_sample)"
   ]
  }
 ],
 "metadata": {
  "kernelspec": {
   "display_name": "Python 3 (ipykernel)",
   "language": "python",
   "name": "python3"
  },
  "language_info": {
   "codemirror_mode": {
    "name": "ipython",
    "version": 3
   },
   "file_extension": ".py",
   "mimetype": "text/x-python",
   "name": "python",
   "nbconvert_exporter": "python",
   "pygments_lexer": "ipython3",
   "version": "3.9.0"
  }
 },
 "nbformat": 4,
 "nbformat_minor": 5
}
