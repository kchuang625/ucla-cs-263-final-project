{
 "cells": [
  {
   "cell_type": "code",
   "execution_count": 561,
   "id": "1c85492b",
   "metadata": {
    "scrolled": true
   },
   "outputs": [],
   "source": [
    "import matplotlib.pyplot as plt\n",
    "import seaborn as sns\n",
    "import numpy as np\n",
    "import pandas as pd\n",
    "import emoji\n",
    "from datasets import load_metric\n",
    "from sklearn.svm import SVC\n",
    "from sklearn.feature_extraction.text import TfidfVectorizer"
   ]
  },
  {
   "cell_type": "code",
   "execution_count": 562,
   "id": "85dfa1c1",
   "metadata": {},
   "outputs": [
    {
     "data": {
      "text/html": [
       "<div>\n",
       "<style scoped>\n",
       "    .dataframe tbody tr th:only-of-type {\n",
       "        vertical-align: middle;\n",
       "    }\n",
       "\n",
       "    .dataframe tbody tr th {\n",
       "        vertical-align: top;\n",
       "    }\n",
       "\n",
       "    .dataframe thead th {\n",
       "        text-align: right;\n",
       "    }\n",
       "</style>\n",
       "<table border=\"1\" class=\"dataframe\">\n",
       "  <thead>\n",
       "    <tr style=\"text-align: right;\">\n",
       "      <th></th>\n",
       "      <th>tweet</th>\n",
       "      <th>sarcastic</th>\n",
       "      <th>pred</th>\n",
       "    </tr>\n",
       "  </thead>\n",
       "  <tbody>\n",
       "    <tr>\n",
       "      <th>0</th>\n",
       "      <td>just wondering how to get my diss down by 1500...</td>\n",
       "      <td>1</td>\n",
       "      <td>1</td>\n",
       "    </tr>\n",
       "    <tr>\n",
       "      <th>1</th>\n",
       "      <td>my professor has been fighting with his dog mo...</td>\n",
       "      <td>0</td>\n",
       "      <td>0</td>\n",
       "    </tr>\n",
       "    <tr>\n",
       "      <th>2</th>\n",
       "      <td>Well done Henri, cost us the win #nffc</td>\n",
       "      <td>1</td>\n",
       "      <td>0</td>\n",
       "    </tr>\n",
       "    <tr>\n",
       "      <th>3</th>\n",
       "      <td>Literally don’t fucking talk to me unless you ...</td>\n",
       "      <td>0</td>\n",
       "      <td>1</td>\n",
       "    </tr>\n",
       "    <tr>\n",
       "      <th>4</th>\n",
       "      <td>What a horrible day 😔</td>\n",
       "      <td>0</td>\n",
       "      <td>0</td>\n",
       "    </tr>\n",
       "    <tr>\n",
       "      <th>...</th>\n",
       "      <td>...</td>\n",
       "      <td>...</td>\n",
       "      <td>...</td>\n",
       "    </tr>\n",
       "    <tr>\n",
       "      <th>2769</th>\n",
       "      <td>On a scale from 1 to 10 how deeply was your ch...</td>\n",
       "      <td>1</td>\n",
       "      <td>1</td>\n",
       "    </tr>\n",
       "    <tr>\n",
       "      <th>2770</th>\n",
       "      <td>If you get a automatic car  do you have to do ...</td>\n",
       "      <td>0</td>\n",
       "      <td>1</td>\n",
       "    </tr>\n",
       "    <tr>\n",
       "      <th>2771</th>\n",
       "      <td>i found out about a cat antique shop in wichit...</td>\n",
       "      <td>0</td>\n",
       "      <td>0</td>\n",
       "    </tr>\n",
       "    <tr>\n",
       "      <th>2772</th>\n",
       "      <td>If I invite you over for dinner, it’s my inten...</td>\n",
       "      <td>0</td>\n",
       "      <td>0</td>\n",
       "    </tr>\n",
       "    <tr>\n",
       "      <th>2773</th>\n",
       "      <td>Good morning to everyone except Tristan Thomps...</td>\n",
       "      <td>0</td>\n",
       "      <td>0</td>\n",
       "    </tr>\n",
       "  </tbody>\n",
       "</table>\n",
       "<p>2774 rows × 3 columns</p>\n",
       "</div>"
      ],
      "text/plain": [
       "                                                  tweet  sarcastic  pred\n",
       "0     just wondering how to get my diss down by 1500...          1     1\n",
       "1     my professor has been fighting with his dog mo...          0     0\n",
       "2                Well done Henri, cost us the win #nffc          1     0\n",
       "3     Literally don’t fucking talk to me unless you ...          0     1\n",
       "4                                 What a horrible day 😔          0     0\n",
       "...                                                 ...        ...   ...\n",
       "2769  On a scale from 1 to 10 how deeply was your ch...          1     1\n",
       "2770  If you get a automatic car  do you have to do ...          0     1\n",
       "2771  i found out about a cat antique shop in wichit...          0     0\n",
       "2772  If I invite you over for dinner, it’s my inten...          0     0\n",
       "2773  Good morning to everyone except Tristan Thomps...          0     0\n",
       "\n",
       "[2774 rows x 3 columns]"
      ]
     },
     "execution_count": 562,
     "metadata": {},
     "output_type": "execute_result"
    }
   ],
   "source": [
    "train_df = pd.read_csv(\"predictions/train_pred_df.csv\")\n",
    "train_df = train_df.dropna().reset_index(drop=True)\n",
    "train_df"
   ]
  },
  {
   "cell_type": "code",
   "execution_count": 563,
   "id": "fe4c1a76",
   "metadata": {
    "scrolled": false
   },
   "outputs": [
    {
     "data": {
      "text/html": [
       "<div>\n",
       "<style scoped>\n",
       "    .dataframe tbody tr th:only-of-type {\n",
       "        vertical-align: middle;\n",
       "    }\n",
       "\n",
       "    .dataframe tbody tr th {\n",
       "        vertical-align: top;\n",
       "    }\n",
       "\n",
       "    .dataframe thead th {\n",
       "        text-align: right;\n",
       "    }\n",
       "</style>\n",
       "<table border=\"1\" class=\"dataframe\">\n",
       "  <thead>\n",
       "    <tr style=\"text-align: right;\">\n",
       "      <th></th>\n",
       "      <th>tweet</th>\n",
       "      <th>sarcastic</th>\n",
       "      <th>pred</th>\n",
       "    </tr>\n",
       "  </thead>\n",
       "  <tbody>\n",
       "    <tr>\n",
       "      <th>0</th>\n",
       "      <td>crying in the krispy kreme parking lot cause t...</td>\n",
       "      <td>0</td>\n",
       "      <td>0</td>\n",
       "    </tr>\n",
       "    <tr>\n",
       "      <th>1</th>\n",
       "      <td>The views on this hike were fantastic... at le...</td>\n",
       "      <td>0</td>\n",
       "      <td>0</td>\n",
       "    </tr>\n",
       "    <tr>\n",
       "      <th>2</th>\n",
       "      <td>I really feel bad for all the pups this time o...</td>\n",
       "      <td>0</td>\n",
       "      <td>0</td>\n",
       "    </tr>\n",
       "    <tr>\n",
       "      <th>3</th>\n",
       "      <td>help why do i keep having nightmares about bei...</td>\n",
       "      <td>0</td>\n",
       "      <td>1</td>\n",
       "    </tr>\n",
       "    <tr>\n",
       "      <th>4</th>\n",
       "      <td>This isn’t good, only a few days in of self is...</td>\n",
       "      <td>0</td>\n",
       "      <td>0</td>\n",
       "    </tr>\n",
       "    <tr>\n",
       "      <th>...</th>\n",
       "      <td>...</td>\n",
       "      <td>...</td>\n",
       "      <td>...</td>\n",
       "    </tr>\n",
       "    <tr>\n",
       "      <th>688</th>\n",
       "      <td>Hate people who moan about EVERY SINGLE THING ...</td>\n",
       "      <td>0</td>\n",
       "      <td>1</td>\n",
       "    </tr>\n",
       "    <tr>\n",
       "      <th>689</th>\n",
       "      <td>Oh my god this is so satisfying to watch. Look...</td>\n",
       "      <td>0</td>\n",
       "      <td>1</td>\n",
       "    </tr>\n",
       "    <tr>\n",
       "      <th>690</th>\n",
       "      <td>going to class! https://t.co/VgCWGl9YTG</td>\n",
       "      <td>0</td>\n",
       "      <td>0</td>\n",
       "    </tr>\n",
       "    <tr>\n",
       "      <th>691</th>\n",
       "      <td>Seriously thank God tomorrow's friday #needabreak</td>\n",
       "      <td>0</td>\n",
       "      <td>0</td>\n",
       "    </tr>\n",
       "    <tr>\n",
       "      <th>692</th>\n",
       "      <td>my body is really out here sabotaging me bc i ...</td>\n",
       "      <td>0</td>\n",
       "      <td>1</td>\n",
       "    </tr>\n",
       "  </tbody>\n",
       "</table>\n",
       "<p>693 rows × 3 columns</p>\n",
       "</div>"
      ],
      "text/plain": [
       "                                                 tweet  sarcastic  pred\n",
       "0    crying in the krispy kreme parking lot cause t...          0     0\n",
       "1    The views on this hike were fantastic... at le...          0     0\n",
       "2    I really feel bad for all the pups this time o...          0     0\n",
       "3    help why do i keep having nightmares about bei...          0     1\n",
       "4    This isn’t good, only a few days in of self is...          0     0\n",
       "..                                                 ...        ...   ...\n",
       "688  Hate people who moan about EVERY SINGLE THING ...          0     1\n",
       "689  Oh my god this is so satisfying to watch. Look...          0     1\n",
       "690            going to class! https://t.co/VgCWGl9YTG          0     0\n",
       "691  Seriously thank God tomorrow's friday #needabreak          0     0\n",
       "692  my body is really out here sabotaging me bc i ...          0     1\n",
       "\n",
       "[693 rows x 3 columns]"
      ]
     },
     "execution_count": 563,
     "metadata": {},
     "output_type": "execute_result"
    }
   ],
   "source": [
    "df = pd.read_csv(\"predictions/valid_pred_df.csv\")\n",
    "df = df.dropna().reset_index(drop=True)\n",
    "df"
   ]
  },
  {
   "cell_type": "markdown",
   "id": "aeb68bcf",
   "metadata": {},
   "source": [
    "#### F1 score"
   ]
  },
  {
   "cell_type": "code",
   "execution_count": 564,
   "id": "832fa704",
   "metadata": {},
   "outputs": [
    {
     "name": "stderr",
     "output_type": "stream",
     "text": [
      "Checking /home/ray080186/.cache/huggingface/datasets/9cf48e7430b438f6a92431a6dc5771d7cb22009fd56adce93f161414e4cd5345.3c9109dd58bcb3f88630a98de3b68825179bc84d0ae17a5f5ebc137fd0e7310e.py for additional imports.\n",
      "Found main folder for metric https://s3.amazonaws.com/datasets.huggingface.co/datasets/metrics/f1/f1.py at /home/ray080186/.cache/huggingface/modules/datasets_modules/metrics/f1\n",
      "Found specific version folder for metric https://s3.amazonaws.com/datasets.huggingface.co/datasets/metrics/f1/f1.py at /home/ray080186/.cache/huggingface/modules/datasets_modules/metrics/f1/9266b41af9f54f6ec149196b308e3c691a7da9e97256b7e926b564bfedfe3599\n",
      "Found script file from https://s3.amazonaws.com/datasets.huggingface.co/datasets/metrics/f1/f1.py to /home/ray080186/.cache/huggingface/modules/datasets_modules/metrics/f1/9266b41af9f54f6ec149196b308e3c691a7da9e97256b7e926b564bfedfe3599/f1.py\n",
      "Couldn't find dataset infos file at https://s3.amazonaws.com/datasets.huggingface.co/datasets/metrics/f1/dataset_infos.json\n",
      "Found metadata file for metric https://s3.amazonaws.com/datasets.huggingface.co/datasets/metrics/f1/f1.py at /home/ray080186/.cache/huggingface/modules/datasets_modules/metrics/f1/9266b41af9f54f6ec149196b308e3c691a7da9e97256b7e926b564bfedfe3599/f1.json\n",
      "Done writing 2774 examples in 22192 bytes /home/ray080186/.cache/huggingface/metrics/f1/default/default_experiment-1-0.arrow.\n",
      "Set __getitem__(key) output type to python objects for no columns  (when key is int or slice) and don't output other (un-formatted) columns.\n"
     ]
    },
    {
     "data": {
      "text/plain": [
       "{'f1': 0.6461538461538462}"
      ]
     },
     "execution_count": 564,
     "metadata": {},
     "output_type": "execute_result"
    }
   ],
   "source": [
    "f1_metric = load_metric(\"f1\")\n",
    "f1_metric.compute(predictions=train_df.sarcastic.values, references=train_df.pred.values)"
   ]
  },
  {
   "cell_type": "code",
   "execution_count": 565,
   "id": "68b2cd8b",
   "metadata": {},
   "outputs": [
    {
     "name": "stderr",
     "output_type": "stream",
     "text": [
      "Checking /home/ray080186/.cache/huggingface/datasets/9cf48e7430b438f6a92431a6dc5771d7cb22009fd56adce93f161414e4cd5345.3c9109dd58bcb3f88630a98de3b68825179bc84d0ae17a5f5ebc137fd0e7310e.py for additional imports.\n",
      "Found main folder for metric https://s3.amazonaws.com/datasets.huggingface.co/datasets/metrics/f1/f1.py at /home/ray080186/.cache/huggingface/modules/datasets_modules/metrics/f1\n",
      "Found specific version folder for metric https://s3.amazonaws.com/datasets.huggingface.co/datasets/metrics/f1/f1.py at /home/ray080186/.cache/huggingface/modules/datasets_modules/metrics/f1/9266b41af9f54f6ec149196b308e3c691a7da9e97256b7e926b564bfedfe3599\n",
      "Found script file from https://s3.amazonaws.com/datasets.huggingface.co/datasets/metrics/f1/f1.py to /home/ray080186/.cache/huggingface/modules/datasets_modules/metrics/f1/9266b41af9f54f6ec149196b308e3c691a7da9e97256b7e926b564bfedfe3599/f1.py\n",
      "Couldn't find dataset infos file at https://s3.amazonaws.com/datasets.huggingface.co/datasets/metrics/f1/dataset_infos.json\n",
      "Found metadata file for metric https://s3.amazonaws.com/datasets.huggingface.co/datasets/metrics/f1/f1.py at /home/ray080186/.cache/huggingface/modules/datasets_modules/metrics/f1/9266b41af9f54f6ec149196b308e3c691a7da9e97256b7e926b564bfedfe3599/f1.json\n",
      "Done writing 693 examples in 5544 bytes /home/ray080186/.cache/huggingface/metrics/f1/default/default_experiment-1-0.arrow.\n",
      "Set __getitem__(key) output type to python objects for no columns  (when key is int or slice) and don't output other (un-formatted) columns.\n"
     ]
    },
    {
     "data": {
      "text/plain": [
       "{'f1': 0.44539614561027835}"
      ]
     },
     "execution_count": 565,
     "metadata": {},
     "output_type": "execute_result"
    }
   ],
   "source": [
    "f1_metric = load_metric(\"f1\")\n",
    "f1_metric.compute(predictions=df.sarcastic.values, references=df.pred.values)"
   ]
  },
  {
   "cell_type": "markdown",
   "id": "6a407ff1",
   "metadata": {},
   "source": [
    "#### Summary"
   ]
  },
  {
   "cell_type": "code",
   "execution_count": 566,
   "id": "a112e5bf",
   "metadata": {},
   "outputs": [
    {
     "data": {
      "text/plain": [
       "sarcastic\n",
       "0    0.754867\n",
       "1    0.245133\n",
       "Name: sarcastic, dtype: float64"
      ]
     },
     "execution_count": 566,
     "metadata": {},
     "output_type": "execute_result"
    }
   ],
   "source": [
    "train_df.groupby(by=\"sarcastic\")[\"sarcastic\"].apply(lambda x: x.count()/len(train_df))"
   ]
  },
  {
   "cell_type": "code",
   "execution_count": 567,
   "id": "7f9002f1",
   "metadata": {},
   "outputs": [
    {
     "data": {
      "text/plain": [
       "pred\n",
       "0    0.635905\n",
       "1    0.364095\n",
       "Name: pred, dtype: float64"
      ]
     },
     "execution_count": 567,
     "metadata": {},
     "output_type": "execute_result"
    }
   ],
   "source": [
    "train_df.groupby(by=\"pred\")[\"pred\"].apply(lambda x: x.count()/len(train_df))"
   ]
  },
  {
   "cell_type": "code",
   "execution_count": 568,
   "id": "10fe4b18",
   "metadata": {},
   "outputs": [
    {
     "data": {
      "text/plain": [
       "sarcastic\n",
       "0    0.730159\n",
       "1    0.269841\n",
       "Name: sarcastic, dtype: float64"
      ]
     },
     "execution_count": 568,
     "metadata": {},
     "output_type": "execute_result"
    }
   ],
   "source": [
    "df.groupby(by=\"sarcastic\")[\"sarcastic\"].apply(lambda x: x.count()/len(df))"
   ]
  },
  {
   "cell_type": "code",
   "execution_count": 569,
   "id": "e7b2843f",
   "metadata": {},
   "outputs": [
    {
     "data": {
      "text/plain": [
       "pred\n",
       "0    0.59596\n",
       "1    0.40404\n",
       "Name: pred, dtype: float64"
      ]
     },
     "execution_count": 569,
     "metadata": {},
     "output_type": "execute_result"
    }
   ],
   "source": [
    "df.groupby(by=\"pred\")[\"pred\"].apply(lambda x: x.count()/len(df))"
   ]
  },
  {
   "cell_type": "code",
   "execution_count": 570,
   "id": "32f426f3",
   "metadata": {},
   "outputs": [],
   "source": [
    "train_df[\"type\"] = \"TP\"\n",
    "train_df.loc[(train_df[\"sarcastic\"]==0) & (train_df[\"pred\"]==0), \"type\"] = \"TN\"\n",
    "train_df.loc[(train_df[\"sarcastic\"]==1) & (train_df[\"pred\"]==0), \"type\"] = \"FN\"\n",
    "train_df.loc[(train_df[\"sarcastic\"]==0) & (train_df[\"pred\"]==1), \"type\"] = \"FP\""
   ]
  },
  {
   "cell_type": "code",
   "execution_count": 571,
   "id": "a6264d3f",
   "metadata": {},
   "outputs": [
    {
     "data": {
      "text/plain": [
       "0.22158548233046801"
      ]
     },
     "execution_count": 571,
     "metadata": {},
     "output_type": "execute_result"
    }
   ],
   "source": [
    "len(train_df[train_df[\"type\"]==\"FP\"]) / len(train_df[train_df[\"type\"].isin([\"TN\", \"FP\"])])"
   ]
  },
  {
   "cell_type": "code",
   "execution_count": 572,
   "id": "deebb34a",
   "metadata": {},
   "outputs": [
    {
     "data": {
      "text/plain": [
       "0.19705882352941176"
      ]
     },
     "execution_count": 572,
     "metadata": {},
     "output_type": "execute_result"
    }
   ],
   "source": [
    "len(train_df[train_df[\"type\"]==\"FN\"]) / len(train_df[train_df[\"type\"].isin([\"FN\", \"TP\"])])"
   ]
  },
  {
   "cell_type": "code",
   "execution_count": 576,
   "id": "b8262be5",
   "metadata": {},
   "outputs": [],
   "source": [
    "df[\"type\"] = \"TP\"\n",
    "df.loc[(df[\"sarcastic\"]==0) & (df[\"pred\"]==0), \"type\"] = \"TN\"\n",
    "df.loc[(df[\"sarcastic\"]==1) & (df[\"pred\"]==0), \"type\"] = \"FN\"\n",
    "df.loc[(df[\"sarcastic\"]==0) & (df[\"pred\"]==1), \"type\"] = \"FP\""
   ]
  },
  {
   "cell_type": "code",
   "execution_count": 577,
   "id": "a2f14dbc",
   "metadata": {},
   "outputs": [
    {
     "data": {
      "text/plain": [
       "0.34782608695652173"
      ]
     },
     "execution_count": 577,
     "metadata": {},
     "output_type": "execute_result"
    }
   ],
   "source": [
    "len(df[df[\"type\"]==\"FP\"]) / len(df[df[\"type\"].isin([\"TN\", \"FP\"])])"
   ]
  },
  {
   "cell_type": "code",
   "execution_count": 578,
   "id": "154448f9",
   "metadata": {},
   "outputs": [
    {
     "data": {
      "text/plain": [
       "0.44385026737967914"
      ]
     },
     "execution_count": 578,
     "metadata": {},
     "output_type": "execute_result"
    }
   ],
   "source": [
    "len(df[df[\"type\"]==\"FN\"]) / len(df[df[\"type\"].isin([\"FN\", \"TP\"])])"
   ]
  },
  {
   "cell_type": "markdown",
   "id": "1d5b4c05",
   "metadata": {},
   "source": [
    "#### TF-IDF"
   ]
  },
  {
   "cell_type": "code",
   "execution_count": 310,
   "id": "99717fcc",
   "metadata": {},
   "outputs": [],
   "source": [
    "def preprocess(text):\n",
    "    new_text = []\n",
    "    for t in text.split(\" \"):\n",
    "        t = \"@user\" if t.startswith(\"@\") and len(t) > 1 else t\n",
    "        t = \"http\" if t.startswith(\"http\") else t\n",
    "        new_text.append(t)\n",
    "    return \" \".join(new_text)"
   ]
  },
  {
   "cell_type": "code",
   "execution_count": 329,
   "id": "9b79610b",
   "metadata": {},
   "outputs": [
    {
     "name": "stdout",
     "output_type": "stream",
     "text": [
      "(2774, 3549)\n",
      "(693, 3549)\n",
      "(693, 2774)\n"
     ]
    }
   ],
   "source": [
    "tfidf = TfidfVectorizer(min_df=2, stop_words=\"english\")\n",
    "X_train = train_df[\"tweet\"].apply(preprocess).tolist()\n",
    "X_val = df[\"tweet\"].apply(preprocess).tolist()\n",
    "\n",
    "tfidf.fit(X_val+X_train)\n",
    "X_train = tfidf.transform(X_train)\n",
    "X_val = tfidf.transform(X_val)\n",
    "\n",
    "print(X_train.shape)\n",
    "print(X_val.shape)\n",
    "\n",
    "sim = X_val.dot(X_train.transpose()).toarray()\n",
    "print(sim.shape)"
   ]
  },
  {
   "cell_type": "code",
   "execution_count": 341,
   "id": "9163ffac",
   "metadata": {},
   "outputs": [],
   "source": [
    "k = 1\n",
    "sim_idx_topk = sim.argsort()[:, -k:]\n",
    "sim_val_topk = np.array([sim[i][j] for i, j in enumerate(sim_idx_topk)])"
   ]
  },
  {
   "cell_type": "code",
   "execution_count": 401,
   "id": "9266b500",
   "metadata": {},
   "outputs": [],
   "source": [
    "result = pd.DataFrame(columns=[\n",
    "    \"text_val\", \"true_val\", \"pred_val\", \"text_train\", \"true_train\", \"pred_train\", \"similarity\"\n",
    "])\n",
    "for i in range(sim.shape[0]):\n",
    "    j = sim_idx_topk[i]\n",
    "    new_row = pd.DataFrame({\n",
    "        \"text_val\": [df[\"tweet\"][i]],\n",
    "        \"true_val\": [df[\"sarcastic\"][i]],\n",
    "        \"pred_val\": [df[\"pred\"][i]],\n",
    "        \"text_train\": [train_df[\"tweet\"].values[j][0]],\n",
    "        \"true_train\": [train_df[\"sarcastic\"].values[j][0]],\n",
    "        \"pred_train\": [train_df[\"pred\"].values[j][0]],\n",
    "        \"similarity\": [sim_val_topk[i][0]]\n",
    "    })\n",
    "    result = result.append(new_row)\n",
    "result = result.sort_values(\"similarity\", ascending=False).reset_index(drop=True)"
   ]
  },
  {
   "cell_type": "code",
   "execution_count": 418,
   "id": "27bf39ea",
   "metadata": {},
   "outputs": [
    {
     "data": {
      "text/html": [
       "<div>\n",
       "<style scoped>\n",
       "    .dataframe tbody tr th:only-of-type {\n",
       "        vertical-align: middle;\n",
       "    }\n",
       "\n",
       "    .dataframe tbody tr th {\n",
       "        vertical-align: top;\n",
       "    }\n",
       "\n",
       "    .dataframe thead th {\n",
       "        text-align: right;\n",
       "    }\n",
       "</style>\n",
       "<table border=\"1\" class=\"dataframe\">\n",
       "  <thead>\n",
       "    <tr style=\"text-align: right;\">\n",
       "      <th></th>\n",
       "      <th>text_val</th>\n",
       "      <th>true_val</th>\n",
       "      <th>pred_val</th>\n",
       "      <th>text_train</th>\n",
       "      <th>true_train</th>\n",
       "      <th>pred_train</th>\n",
       "      <th>similarity</th>\n",
       "    </tr>\n",
       "  </thead>\n",
       "  <tbody>\n",
       "    <tr>\n",
       "      <th>17</th>\n",
       "      <td>Don’t let anyone ruin your day, it’s YOUR day....</td>\n",
       "      <td>0</td>\n",
       "      <td>1</td>\n",
       "      <td>Anyone else wanna ruin me day x</td>\n",
       "      <td>1</td>\n",
       "      <td>1</td>\n",
       "      <td>0.762390</td>\n",
       "    </tr>\n",
       "    <tr>\n",
       "      <th>24</th>\n",
       "      <td>Shout out James Boswell  #unibowl</td>\n",
       "      <td>1</td>\n",
       "      <td>0</td>\n",
       "      <td>Shout-out to whoever invented watermelons.</td>\n",
       "      <td>0</td>\n",
       "      <td>0</td>\n",
       "      <td>0.723052</td>\n",
       "    </tr>\n",
       "  </tbody>\n",
       "</table>\n",
       "</div>"
      ],
      "text/plain": [
       "                                             text_val true_val pred_val  \\\n",
       "17  Don’t let anyone ruin your day, it’s YOUR day....        0        1   \n",
       "24                  Shout out James Boswell  #unibowl        1        0   \n",
       "\n",
       "                                    text_train true_train pred_train  \\\n",
       "17             Anyone else wanna ruin me day x          1          1   \n",
       "24  Shout-out to whoever invented watermelons.          0          0   \n",
       "\n",
       "    similarity  \n",
       "17    0.762390  \n",
       "24    0.723052  "
      ]
     },
     "execution_count": 418,
     "metadata": {},
     "output_type": "execute_result"
    }
   ],
   "source": [
    "result.loc[[17, 24]] "
   ]
  },
  {
   "cell_type": "code",
   "execution_count": 580,
   "id": "ffa705a3",
   "metadata": {},
   "outputs": [
    {
     "data": {
      "text/plain": [
       "array(['Don’t let anyone ruin your day, it’s YOUR day. Ruin it yourself'],\n",
       "      dtype=object)"
      ]
     },
     "execution_count": 580,
     "metadata": {},
     "output_type": "execute_result"
    }
   ],
   "source": [
    "result.loc[[17]] [\"text_val\"].values"
   ]
  },
  {
   "cell_type": "markdown",
   "id": "b389ec4d",
   "metadata": {},
   "source": [
    "#### emoji"
   ]
  },
  {
   "cell_type": "code",
   "execution_count": 522,
   "id": "50b3cf4f",
   "metadata": {},
   "outputs": [],
   "source": [
    "def extract_emojis(s):\n",
    "    return \" \".join([c for c in s if c in emoji.UNICODE_EMOJI['en']])"
   ]
  },
  {
   "cell_type": "code",
   "execution_count": 523,
   "id": "5ab358c6",
   "metadata": {},
   "outputs": [],
   "source": [
    "train_df[\"emojis\"] = [extract_emojis(s) for s in train_df[\"tweet\"]]\n",
    "df[\"emojis\"] = [extract_emojis(s) for s in df[\"tweet\"]]"
   ]
  },
  {
   "cell_type": "code",
   "execution_count": 552,
   "id": "09a7c240",
   "metadata": {},
   "outputs": [
    {
     "data": {
      "text/html": [
       "<div>\n",
       "<style scoped>\n",
       "    .dataframe tbody tr th:only-of-type {\n",
       "        vertical-align: middle;\n",
       "    }\n",
       "\n",
       "    .dataframe tbody tr th {\n",
       "        vertical-align: top;\n",
       "    }\n",
       "\n",
       "    .dataframe thead th {\n",
       "        text-align: right;\n",
       "    }\n",
       "</style>\n",
       "<table border=\"1\" class=\"dataframe\">\n",
       "  <thead>\n",
       "    <tr style=\"text-align: right;\">\n",
       "      <th></th>\n",
       "      <th>tweet</th>\n",
       "      <th>sarcastic</th>\n",
       "      <th>pred</th>\n",
       "      <th>emojis</th>\n",
       "    </tr>\n",
       "  </thead>\n",
       "  <tbody>\n",
       "    <tr>\n",
       "      <th>4</th>\n",
       "      <td>What a horrible day 😔</td>\n",
       "      <td>0</td>\n",
       "      <td>0</td>\n",
       "      <td>😔</td>\n",
       "    </tr>\n",
       "    <tr>\n",
       "      <th>6</th>\n",
       "      <td>Whenever I text Scott in the middle of the nig...</td>\n",
       "      <td>0</td>\n",
       "      <td>0</td>\n",
       "      <td>🤗</td>\n",
       "    </tr>\n",
       "    <tr>\n",
       "      <th>12</th>\n",
       "      <td>cant believe im missing silvacre kiss bcos of ...</td>\n",
       "      <td>0</td>\n",
       "      <td>0</td>\n",
       "      <td>😭</td>\n",
       "    </tr>\n",
       "    <tr>\n",
       "      <th>13</th>\n",
       "      <td>NOT EVERYONE but most of the people I’ve encou...</td>\n",
       "      <td>0</td>\n",
       "      <td>0</td>\n",
       "      <td>🙃</td>\n",
       "    </tr>\n",
       "    <tr>\n",
       "      <th>14</th>\n",
       "      <td>I would do so much for people that would do ab...</td>\n",
       "      <td>1</td>\n",
       "      <td>1</td>\n",
       "      <td>😀</td>\n",
       "    </tr>\n",
       "    <tr>\n",
       "      <th>...</th>\n",
       "      <td>...</td>\n",
       "      <td>...</td>\n",
       "      <td>...</td>\n",
       "      <td>...</td>\n",
       "    </tr>\n",
       "    <tr>\n",
       "      <th>2753</th>\n",
       "      <td>Johnson &amp;amp; Johnson really be tryna kill you...</td>\n",
       "      <td>0</td>\n",
       "      <td>1</td>\n",
       "      <td>😬 🥴 😂 🤦 🏽 ♀</td>\n",
       "    </tr>\n",
       "    <tr>\n",
       "      <th>2757</th>\n",
       "      <td>but clinton's emails!\\noh.\\nemm.\\nfucking.\\nge...</td>\n",
       "      <td>1</td>\n",
       "      <td>1</td>\n",
       "      <td>🤮</td>\n",
       "    </tr>\n",
       "    <tr>\n",
       "      <th>2759</th>\n",
       "      <td>One positive of the dark mornings is you can w...</td>\n",
       "      <td>0</td>\n",
       "      <td>0</td>\n",
       "      <td>🤗 🤗 🤗</td>\n",
       "    </tr>\n",
       "    <tr>\n",
       "      <th>2761</th>\n",
       "      <td>Love the people in my life, no matter what I g...</td>\n",
       "      <td>0</td>\n",
       "      <td>0</td>\n",
       "      <td>❤</td>\n",
       "    </tr>\n",
       "    <tr>\n",
       "      <th>2770</th>\n",
       "      <td>If you get a automatic car  do you have to do ...</td>\n",
       "      <td>0</td>\n",
       "      <td>1</td>\n",
       "      <td>🚗 🚙</td>\n",
       "    </tr>\n",
       "  </tbody>\n",
       "</table>\n",
       "<p>528 rows × 4 columns</p>\n",
       "</div>"
      ],
      "text/plain": [
       "                                                  tweet  sarcastic  pred  \\\n",
       "4                                 What a horrible day 😔          0     0   \n",
       "6     Whenever I text Scott in the middle of the nig...          0     0   \n",
       "12    cant believe im missing silvacre kiss bcos of ...          0     0   \n",
       "13    NOT EVERYONE but most of the people I’ve encou...          0     0   \n",
       "14    I would do so much for people that would do ab...          1     1   \n",
       "...                                                 ...        ...   ...   \n",
       "2753  Johnson &amp; Johnson really be tryna kill you...          0     1   \n",
       "2757  but clinton's emails!\\noh.\\nemm.\\nfucking.\\nge...          1     1   \n",
       "2759  One positive of the dark mornings is you can w...          0     0   \n",
       "2761  Love the people in my life, no matter what I g...          0     0   \n",
       "2770  If you get a automatic car  do you have to do ...          0     1   \n",
       "\n",
       "           emojis  \n",
       "4               😔  \n",
       "6               🤗  \n",
       "12              😭  \n",
       "13              🙃  \n",
       "14              😀  \n",
       "...           ...  \n",
       "2753  😬 🥴 😂 🤦 🏽 ♀  \n",
       "2757            🤮  \n",
       "2759        🤗 🤗 🤗  \n",
       "2761            ❤  \n",
       "2770          🚗 🚙  \n",
       "\n",
       "[528 rows x 4 columns]"
      ]
     },
     "execution_count": 552,
     "metadata": {},
     "output_type": "execute_result"
    }
   ],
   "source": []
  },
  {
   "cell_type": "code",
   "execution_count": 554,
   "id": "f120c3e8",
   "metadata": {},
   "outputs": [],
   "source": [
    "tfidf = TfidfVectorizer(min_df=2, stop_words=\"english\")\n",
    "X_train = train_df[train_df[\"emojis\"] != \"\"][\"emojis\"].apply(lambda x: emoji.demojize(x)).tolist()\n",
    "X_test = df[df[\"emojis\"] != \"\"][\"emojis\"].apply(lambda x: emoji.demojize(x)).tolist()\n",
    "\n",
    "tfidf.fit(X_test+X_train)\n",
    "X_train = tfidf.transform(X_train)\n",
    "X_test = tfidf.transform(X_test)\n",
    "y_train = train_df[train_df[\"emojis\"] != \"\"][\"sarcastic\"].values\n",
    "y_test = df[df[\"emojis\"] != \"\"][\"sarcastic\"].values"
   ]
  },
  {
   "cell_type": "code",
   "execution_count": 556,
   "id": "7fe76d86",
   "metadata": {},
   "outputs": [
    {
     "data": {
      "image/png": "[encoded data removed]",
      "text/plain": [
       "<Figure size 640x480 with 1 Axes>"
      ]
     },
     "metadata": {},
     "output_type": "display_data"
    },
    {
     "data": {
      "image/png": "[encoded data removed]",
      "text/plain": [
       "<Figure size 640x480 with 1 Axes>"
      ]
     },
     "metadata": {},
     "output_type": "display_data"
    },
    {
     "name": "stderr",
     "output_type": "stream",
     "text": [
      "Done writing 528 examples in 4224 bytes /home/ray080186/.cache/huggingface/metrics/f1/default/default_experiment-1-0.arrow.\n",
      "Set __getitem__(key) output type to python objects for no columns  (when key is int or slice) and don't output other (un-formatted) columns.\n",
      "Done writing 141 examples in 1128 bytes /home/ray080186/.cache/huggingface/metrics/f1/default/default_experiment-1-0.arrow.\n",
      "Set __getitem__(key) output type to python objects for no columns  (when key is int or slice) and don't output other (un-formatted) columns.\n"
     ]
    },
    {
     "name": "stdout",
     "output_type": "stream",
     "text": [
      "Train f1: 0.295\n",
      "Test f1: 0.267\n"
     ]
    }
   ],
   "source": [
    "thd = 0.33\n",
    "clf = SVC(probability=True, random_state=0)\n",
    "clf.fit(X_train, y_train)\n",
    "\n",
    "y_pred_train = clf.predict_proba(X_train)[:,1]\n",
    "plt.hist(y_pred_train)\n",
    "plt.title(\"y_pred distribtion (train)\")\n",
    "plt.show()\n",
    "y_pred_test = clf.predict_proba(X_test)[:,1]\n",
    "plt.title(\"y_pred distribtion (test)\")\n",
    "plt.hist(y_pred_test)\n",
    "plt.show()\n",
    "\n",
    "y_pred_train = y_pred_train > thd\n",
    "y_pred_test = y_pred_test > thd\n",
    "train_f1 = f1_metric.compute(predictions=y_pred_train, references=y_train)[\"f1\"]\n",
    "test_f1 = f1_metric.compute(predictions=y_pred_test, references=y_test)[\"f1\"]\n",
    "print(\"Train f1:\", round(train_f1, 3))\n",
    "print(\"Test f1:\", round(test_f1, 3))"
   ]
  },
  {
   "cell_type": "code",
   "execution_count": 559,
   "id": "e413de1f",
   "metadata": {},
   "outputs": [
    {
     "name": "stderr",
     "output_type": "stream",
     "text": [
      "Done writing 141 examples in 1128 bytes /home/ray080186/.cache/huggingface/metrics/f1/default/default_experiment-1-0.arrow.\n",
      "Set __getitem__(key) output type to python objects for no columns  (when key is int or slice) and don't output other (un-formatted) columns.\n"
     ]
    },
    {
     "name": "stdout",
     "output_type": "stream",
     "text": [
      "Test f1: 0.484\n"
     ]
    }
   ],
   "source": [
    "y_pred_test = np.ones(len(y_pred_test))\n",
    "test_f1 = f1_metric.compute(predictions=y_pred_test, references=y_test)[\"f1\"]\n",
    "print(\"Test f1:\", round(test_f1, 3))"
   ]
  },
  {
   "cell_type": "code",
   "execution_count": null,
   "id": "f29f0ab2",
   "metadata": {},
   "outputs": [],
   "source": []
  }
 ],
 "metadata": {
  "kernelspec": {
   "display_name": "Python 3 (ipykernel)",
   "language": "python",
   "name": "python3"
  },
  "language_info": {
   "codemirror_mode": {
    "name": "ipython",
    "version": 3
   },
   "file_extension": ".py",
   "mimetype": "text/x-python",
   "name": "python",
   "nbconvert_exporter": "python",
   "pygments_lexer": "ipython3",
   "version": "3.9.0"
  }
 },
 "nbformat": 4,
 "nbformat_minor": 5
}
